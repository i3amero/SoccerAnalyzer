{
 "cells": [
  {
   "cell_type": "markdown",
   "id": "8ad8b815",
   "metadata": {},
   "source": [
    "## Video Load"
   ]
  },
  {
   "cell_type": "code",
   "execution_count": 2,
   "id": "6d94b64a",
   "metadata": {},
   "outputs": [],
   "source": [
    "import cv2\n",
    "import math\n",
    "import numpy as np\n",
    "import matplotlib.pyplot as plt\n",
    "\n",
    "from util import *"
   ]
  },
  {
   "cell_type": "code",
   "execution_count": 3,
   "id": "e76ca284",
   "metadata": {},
   "outputs": [
    {
     "data": {
      "text/plain": [
       "'\\ncontours, hierarchy = cv2.findContours(ROI, cv2.RETR_EXTERNAL, cv2.CHAIN_APPROX_SIMPLE)\\n                             \\ncontour = contours[0]\\n\\nepsilon = 0.005 * cv2.arcLength(contour, True)\\n\\napprox = cv2.approxPolyDP(contour, epsilon, True)\\n\\nresult = cv2.copyTo(frameS04, ROI)\\n\\ncv2.drawContours(frameS04, [approx], -1, (0,255,0), 1)\\n'"
      ]
     },
     "execution_count": 3,
     "metadata": {},
     "output_type": "execute_result"
    }
   ],
   "source": [
    "\"\"\"\n",
    "contours, hierarchy = cv2.findContours(ROI, cv2.RETR_EXTERNAL, cv2.CHAIN_APPROX_SIMPLE)\n",
    "                             \n",
    "contour = contours[0]\n",
    "\n",
    "epsilon = 0.005 * cv2.arcLength(contour, True)\n",
    "\n",
    "approx = cv2.approxPolyDP(contour, epsilon, True)\n",
    "\n",
    "result = cv2.copyTo(frameS04, ROI)\n",
    "\n",
    "cv2.drawContours(frameS04, [approx], -1, (0,255,0), 1)\n",
    "\"\"\""
   ]
  },
  {
   "cell_type": "code",
   "execution_count": 32,
   "id": "9dc2b5a4",
   "metadata": {},
   "outputs": [],
   "source": [
    "def load_video(path, ms=25):\n",
    "    \n",
    "    # Video Capture 객체 생성\n",
    "    capture = cv2.VideoCapture(path)\n",
    "\n",
    "    run, frame = capture.read() # 다음 Frame 읽기\n",
    "    \n",
    "    prevS04, prevS16, prevS64 = None, None, None\n",
    "    \n",
    "    if run: # Frame을 읽은 경우\n",
    "        frameS04 = cv2.resize(frame,    (0, 0), fx=1/4, fy=1/4, interpolation= cv2.INTER_AREA)\n",
    "        frameS16 = cv2.resize(frameS04, (0, 0), fx=1/4, fy=1/4, interpolation= cv2.INTER_AREA)\n",
    "        frameS64 = cv2.resize(frameS16, (0, 0), fx=1/4, fy=1/4, interpolation= cv2.INTER_AREA)\n",
    "\n",
    "        prevS04, prevS16, prevS64 = frameS04, frameS16, frameS64\n",
    "\n",
    "    while capture.isOpened(): # Video Capture가 준비되었는지 확인\n",
    "        \n",
    "        run, frame = capture.read() # 다음 Frame 읽기\n",
    "        \n",
    "        if run: # Frame을 읽은 경우\n",
    "            crop = 64\n",
    "\n",
    "            frame = frame[crop:-crop,:]\n",
    "\n",
    "            # 영상 사이즈 기준 1920 x 1080\n",
    "\n",
    "            # 영상의 사이즈 조정 (x1/16 또는 x1/32)\n",
    "            frameS04 = cv2.resize(frame,    (0, 0), fx=1/4, fy=1/4, interpolation= cv2.INTER_AREA)\n",
    "            frameS16 = cv2.resize(frameS04, (0, 0), fx=1/4, fy=1/4, interpolation= cv2.INTER_AREA)\n",
    "            frameS64 = cv2.resize(frameS16, (0, 0), fx=1/4, fy=1/4, interpolation= cv2.INTER_AREA)\n",
    "                            \n",
    "            hsv = cv2.cvtColor(frameS04, cv2.COLOR_BGR2HSV)\n",
    "\n",
    "            h, s, v = cv2.split(hsv)\n",
    "\n",
    "            cv2.imshow(\"S\", s) \n",
    "\n",
    "            #h = cv2.GaussianBlur(h, (17, 17), sigmaX=0, sigmaY=0)\n",
    "\n",
    "            # H 채널에 대한 히스토그램 구하기\n",
    "            hist_h = cv2.calcHist([h], [0], None, [256], [0, 256])\n",
    "            \n",
    "            # 히스토그램 노이즈 제거\n",
    "            hist_h = cv2.GaussianBlur(hist_h, (1, 3), sigmaX=0, sigmaY=0)\n",
    "\n",
    "            # 히스토그램 평균, 분산, 표준 편차\n",
    "            hist_h /= hist_h.sum()\n",
    "\n",
    "            mean, variance_l, variance_r = 0, 0, 0\n",
    "            \n",
    "            for i in range(len(hist_h)):\n",
    "                mean += hist_h[i] * i\n",
    "\n",
    "            for i in range(len(hist_h)):\n",
    "                variance = (hist_h[i] * (i - mean) ** 2) * 2\n",
    "\n",
    "                if (i <= mean):\n",
    "                    variance_l += variance\n",
    "                else:\n",
    "                    variance_r += variance\n",
    "\n",
    "            SD_l = math.sqrt(variance_l)\n",
    "            SD_r = math.sqrt(variance_r)\n",
    "\n",
    "            # 히스토그램을 이미지로 표시\n",
    "            hist_img = get_histogram_image(hist_h)\n",
    "\n",
    "            l, r = int(max(mean - SD_l * 1.35, 0)), int(min(mean + SD_r * 0.4, 255))\n",
    "\n",
    "            draw_line_on_histogram_image(hist_img, l, (0, 0, 255))\n",
    "            draw_line_on_histogram_image(hist_img, r, (0, 0, 255))\n",
    "            draw_line_on_histogram_image(hist_img, int(mean), (255, 0, 255))\n",
    "\n",
    "            cv2.imshow(\"Histogram H\", hist_img) \n",
    "\n",
    "            extraction = cv2.inRange(h, l, r)\n",
    "\n",
    "            kernel = np.ones((27, 27))\n",
    "            field = cv2.erode(extraction, kernel)  \n",
    "            \n",
    "            kernel = np.ones((18, 18))\n",
    "            field = cv2.dilate(field, kernel)  \n",
    "\n",
    "            kernel = np.array([[0, 1, 0], [1, 1, 1], [0, 1, 0]], dtype=np.uint8)\n",
    "            field = cv2.dilate(field, kernel, iterations=9)  \n",
    "\n",
    "            contours, hierarchy = cv2.findContours(field, cv2.RETR_EXTERNAL, cv2.CHAIN_APPROX_SIMPLE)\n",
    "                                        \n",
    "            # 필드 영역 마스크 생성\n",
    "            field_mask = np.zeros(field.shape, dtype=np.uint8)\n",
    "\n",
    "            for contour in contours:\n",
    "                hull = cv2.convexHull(contour)\n",
    "\n",
    "                cv2.drawContours(field_mask, [hull], -1, 255, -1) \n",
    "\n",
    "            # 필드 위의 라인에 대한 처리\n",
    "            blurred_s = cv2.GaussianBlur(s, (3, 3), sigmaX=0, sigmaY=0)\n",
    "\n",
    "            sobel_x = cv2.Sobel(blurred_s, -1, 1, 0, delta=128)\n",
    "            sobel_y = cv2.Sobel(blurred_s, -1, 0, 1, delta=128)\n",
    "\n",
    "            sobel_x = cv2.copyTo(sobel_x, field_mask) \n",
    "            sobel_y = cv2.copyTo(sobel_y, field_mask) \n",
    "\n",
    "            cv2.imshow(\"FieldH\", field)\n",
    "            cv2.imshow(\"Frame\", frameS04)\n",
    "            cv2.imshow(\"sobel_x\", sobel_x)\n",
    "            cv2.imshow(\"sobel_y\", sobel_y)\n",
    "            cv2.waitKey(ms) # Millisecond 단위로 대기\n",
    "\n",
    "            prevS04, prevS16, prevS64 = frameS04, frameS16, frameS64\n",
    "        else: # 재생이 완료되어 더 이상 Frame을 읽을 수 없는 경우\n",
    "            break\n",
    "\n",
    "    capture.release() # Capture 자원 반납\n",
    "    cv2.destroyAllWindows() # 창 제거"
   ]
  },
  {
   "cell_type": "code",
   "execution_count": 33,
   "id": "0ad920ec",
   "metadata": {},
   "outputs": [
    {
     "ename": "KeyboardInterrupt",
     "evalue": "",
     "output_type": "error",
     "traceback": [
      "\u001b[1;31m---------------------------------------------------------------------------\u001b[0m",
      "\u001b[1;31mKeyboardInterrupt\u001b[0m                         Traceback (most recent call last)",
      "Cell \u001b[1;32mIn[33], line 5\u001b[0m\n\u001b[0;32m      2\u001b[0m PATH \u001b[38;5;241m=\u001b[39m \u001b[38;5;124mr\u001b[39m\u001b[38;5;124m\"\u001b[39m\u001b[38;5;124mvideo/soccer2.mp4\u001b[39m\u001b[38;5;124m\"\u001b[39m\n\u001b[0;32m      4\u001b[0m \u001b[38;5;66;03m# Video 재생 및 반환 (Numpy Array)\u001b[39;00m\n\u001b[1;32m----> 5\u001b[0m load_video(PATH, ms\u001b[38;5;241m=\u001b[39m\u001b[38;5;241m20\u001b[39m)\n",
      "Cell \u001b[1;32mIn[32], line 111\u001b[0m, in \u001b[0;36mload_video\u001b[1;34m(path, ms)\u001b[0m\n\u001b[0;32m    109\u001b[0m     cv2\u001b[38;5;241m.\u001b[39mimshow(\u001b[38;5;124m\"\u001b[39m\u001b[38;5;124msobel_x\u001b[39m\u001b[38;5;124m\"\u001b[39m, sobel_x)\n\u001b[0;32m    110\u001b[0m     cv2\u001b[38;5;241m.\u001b[39mimshow(\u001b[38;5;124m\"\u001b[39m\u001b[38;5;124msobel_y\u001b[39m\u001b[38;5;124m\"\u001b[39m, sobel_y)\n\u001b[1;32m--> 111\u001b[0m     cv2\u001b[38;5;241m.\u001b[39mwaitKey(ms) \u001b[38;5;66;03m# Millisecond 단위로 대기\u001b[39;00m\n\u001b[0;32m    113\u001b[0m     prevS04, prevS16, prevS64 \u001b[38;5;241m=\u001b[39m frameS04, frameS16, frameS64\n\u001b[0;32m    114\u001b[0m \u001b[38;5;28;01melse\u001b[39;00m: \u001b[38;5;66;03m# 재생이 완료되어 더 이상 Frame을 읽을 수 없는 경우\u001b[39;00m\n",
      "\u001b[1;31mKeyboardInterrupt\u001b[0m: "
     ]
    }
   ],
   "source": [
    "# Video가 저장된 경로 입력\n",
    "PATH = r\"video/soccer2.mp4\"\n",
    "\n",
    "# Video 재생 및 반환 (Numpy Array)\n",
    "load_video(PATH, ms=20)"
   ]
  }
 ],
 "metadata": {
  "kernelspec": {
   "display_name": "Python 3 (ipykernel)",
   "language": "python",
   "name": "python3"
  },
  "language_info": {
   "codemirror_mode": {
    "name": "ipython",
    "version": 3
   },
   "file_extension": ".py",
   "mimetype": "text/x-python",
   "name": "python",
   "nbconvert_exporter": "python",
   "pygments_lexer": "ipython3",
   "version": "3.11.5"
  }
 },
 "nbformat": 4,
 "nbformat_minor": 5
}
