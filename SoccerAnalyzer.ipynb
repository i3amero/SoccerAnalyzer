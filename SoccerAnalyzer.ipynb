{
 "cells": [
  {
   "cell_type": "markdown",
   "id": "8ad8b815",
   "metadata": {},
   "source": [
    "## Video Load"
   ]
  },
  {
   "cell_type": "code",
   "execution_count": 62,
   "id": "6d94b64a",
   "metadata": {},
   "outputs": [],
   "source": [
    "import cv2\n",
    "import numpy as np\n",
    "import matplotlib.pyplot as plt"
   ]
  },
  {
   "cell_type": "code",
   "execution_count": 63,
   "id": "e76ca284",
   "metadata": {},
   "outputs": [
    {
     "data": {
      "text/plain": [
       "'\\ncontours, hierarchy = cv2.findContours(ROI, cv2.RETR_EXTERNAL, cv2.CHAIN_APPROX_SIMPLE)\\n                             \\ncontour = contours[0]\\n\\nepsilon = 0.005 * cv2.arcLength(contour, True)\\n\\napprox = cv2.approxPolyDP(contour, epsilon, True)\\n\\nresult = cv2.copyTo(frameS04, ROI)\\n\\ncv2.drawContours(frameS04, [approx], -1, (0,255,0), 1)\\n'"
      ]
     },
     "execution_count": 63,
     "metadata": {},
     "output_type": "execute_result"
    }
   ],
   "source": [
    "\"\"\"\n",
    "contours, hierarchy = cv2.findContours(ROI, cv2.RETR_EXTERNAL, cv2.CHAIN_APPROX_SIMPLE)\n",
    "                             \n",
    "contour = contours[0]\n",
    "\n",
    "epsilon = 0.005 * cv2.arcLength(contour, True)\n",
    "\n",
    "approx = cv2.approxPolyDP(contour, epsilon, True)\n",
    "\n",
    "result = cv2.copyTo(frameS04, ROI)\n",
    "\n",
    "cv2.drawContours(frameS04, [approx], -1, (0,255,0), 1)\n",
    "\"\"\""
   ]
  },
  {
   "cell_type": "code",
   "execution_count": 64,
   "id": "47cecee2",
   "metadata": {},
   "outputs": [],
   "source": [
    "def get_polygon_mask(shape, vertices):\n",
    "    mask = np.zeros(shape, dtype=np.uint8)\n",
    "    # 다각형 영역 채우기\n",
    "    cv2.fillPoly(mask, vertices, 255)\n",
    "\n",
    "    return mask"
   ]
  },
  {
   "cell_type": "code",
   "execution_count": 68,
   "id": "9dc2b5a4",
   "metadata": {},
   "outputs": [],
   "source": [
    "def load_video(path, ms=25):\n",
    "    \n",
    "    # Video Capture 객체 생성\n",
    "    capture = cv2.VideoCapture(path)\n",
    "\n",
    "    run, frame = capture.read() # 다음 Frame 읽기\n",
    "    \n",
    "    prevS04, prevS16, prevS64 = None, None, None\n",
    "    \n",
    "    if run: # Frame을 읽은 경우\n",
    "        frameS04 = cv2.resize(frame,    (0, 0), fx=1/4, fy=1/4, interpolation= cv2.INTER_AREA)\n",
    "        frameS16 = cv2.resize(frameS04, (0, 0), fx=1/4, fy=1/4, interpolation= cv2.INTER_AREA)\n",
    "        frameS64 = cv2.resize(frameS16, (0, 0), fx=1/4, fy=1/4, interpolation= cv2.INTER_AREA)\n",
    "\n",
    "        prevS04, prevS16, prevS64 = frameS04, frameS16, frameS64\n",
    "\n",
    "    while capture.isOpened(): # Video Capture가 준비되었는지 확인\n",
    "        \n",
    "        run, frame = capture.read() # 다음 Frame 읽기\n",
    "        \n",
    "        if run: # Frame을 읽은 경우\n",
    "            # 영상 사이즈 기준 1920 x 1080\n",
    "\n",
    "            # 영상의 사이즈 조정 (x1/16 또는 x1/32)\n",
    "            frameS04 = cv2.resize(frame,    (0, 0), fx=1/4, fy=1/4, interpolation= cv2.INTER_AREA)\n",
    "            frameS16 = cv2.resize(frameS04, (0, 0), fx=1/4, fy=1/4, interpolation= cv2.INTER_AREA)\n",
    "            frameS64 = cv2.resize(frameS16, (0, 0), fx=1/4, fy=1/4, interpolation= cv2.INTER_AREA)\n",
    "                            \n",
    "            hsv = cv2.cvtColor(frameS04, cv2.COLOR_BGR2HSV)\n",
    "\n",
    "            h, s, v = cv2.split(hsv); \n",
    " \n",
    "            cv2.imshow(\"h\", h)\n",
    "            cv2.imshow(\"s\", s)\n",
    "            cv2.imshow(\"v\", v)\n",
    "\n",
    "            frameKMeans = h\n",
    "\n",
    "            # 축구장 대표 컬러 추출\n",
    "            data = frameKMeans.reshape(-1).astype(np.float32)\n",
    "\n",
    "            criteria = (cv2.TERM_CRITERIA_MAX_ITER + cv2.TERM_CRITERIA_EPS, 10, 0.001)\n",
    "\n",
    "            max_labels = 4\n",
    "\n",
    "            compactness, labels, centers = cv2.kmeans(data, max_labels, None, criteria, 10, cv2.KMEANS_RANDOM_CENTERS)\n",
    "            \n",
    "            height, width = frameKMeans.shape\n",
    "\n",
    "            # 관심 영역만 남기기\n",
    "            vertices = np.array([[(0, height), (width // 2, 0), (width, height)]], dtype=np.int32)\n",
    "\n",
    "            mask = get_polygon_mask((height, width), vertices)\n",
    "\n",
    "            # 색상에 대한 히스토그램 구하기\n",
    "            hist = cv2.calcHist([(labels.reshape(height, width).astype(np.uint8))], [0], mask, [max_labels], [0, max_labels])\n",
    "\n",
    "            color = centers[np.argmax(hist)] \n",
    "            # 군집화 결과를 이용하여 출력 영상 생성\n",
    "            centers = centers.astype(np.uint8)\n",
    "            \n",
    "            # 중심점 좌표를 받아서 dst에 입력 (307200, 3) 3은 중심 좌표\n",
    "            dst = centers[labels.flatten()] # 각 픽셀을 K개 군집 중심 색상으로 치환\n",
    "            \n",
    "            # 입력 영상과 동일한 형태로 변환 (640,480,3)\n",
    "            dst = dst.reshape((frameKMeans.shape))\n",
    "\n",
    "            cv2.imshow(\"dst\", dst)\n",
    "\n",
    "            \"\"\"\n",
    "            # 축구장 ROI 평면 추출\n",
    "            r = 24\n",
    "\n",
    "            ROI = cv2.inRange(frameKMeans, color - [r] * 3, color + [r] * 3)\n",
    "\n",
    "            kernel = cv2.getStructuringElement(cv2.MORPH_RECT, (3, 3))\n",
    "            field_mask = cv2.morphologyEx(ROI, cv2.MORPH_ERODE, kernel)\n",
    "            \n",
    "            kernel = cv2.getStructuringElement(cv2.MORPH_RECT, (19, 19))\n",
    "            ROI = cv2.morphologyEx(field_mask, cv2.MORPH_DILATE, kernel)\n",
    "            \n",
    "            kernel = cv2.getStructuringElement(cv2.MORPH_RECT, (7, 7))\n",
    "            ROI = cv2.morphologyEx(ROI, cv2.MORPH_ERODE, kernel)\n",
    "\n",
    "            cv2.imshow(\"dst\", )\n",
    "\n",
    "            #result = cv2.copyTo(frameS16, np.bitwise_and(ROI, np.bitwise_not(Segmentation)))\n",
    "\n",
    "            result = cv2.copyTo(frameKMeans, ROI)\n",
    "\n",
    "            field = cv2.copyTo(frameKMeans, field_mask)\n",
    "            blurred = cv2.GaussianBlur(result, (7, 7), sigmaX=0, sigmaY=0)\n",
    "\n",
    "            canny = cv2.Canny(blurred, 16, 48)\n",
    "\n",
    "            cv2.imshow(\"ROI\", ROI)\n",
    "            cv2.imshow(\"result\", result)\n",
    "            cv2.imshow(\"frame\", frameS04)\n",
    "            cv2.imshow(\"canny\", canny)\n",
    "            cv2.waitKey(ms) # Millisecond 단위로 대기\n",
    "            \"\"\"\n",
    "            prevS04, prevS16, prevS64 = frameS04, frameS16, frameS64\n",
    "        else: # 재생이 완료되어 더 이상 Frame을 읽을 수 없는 경우\n",
    "            break\n",
    "\n",
    "    capture.release() # Capture 자원 반납\n",
    "    cv2.destroyAllWindows() # 창 제거"
   ]
  },
  {
   "cell_type": "code",
   "execution_count": 69,
   "id": "0ad920ec",
   "metadata": {},
   "outputs": [
    {
     "ename": "KeyboardInterrupt",
     "evalue": "",
     "output_type": "error",
     "traceback": [
      "\u001b[1;31m---------------------------------------------------------------------------\u001b[0m",
      "\u001b[1;31mKeyboardInterrupt\u001b[0m                         Traceback (most recent call last)",
      "Cell \u001b[1;32mIn[69], line 5\u001b[0m\n\u001b[0;32m      2\u001b[0m PATH \u001b[38;5;241m=\u001b[39m \u001b[38;5;124mr\u001b[39m\u001b[38;5;124m\"\u001b[39m\u001b[38;5;124msoccer1.mp4\u001b[39m\u001b[38;5;124m\"\u001b[39m\n\u001b[0;32m      4\u001b[0m \u001b[38;5;66;03m# Video 재생 및 반환 (Numpy Array)\u001b[39;00m\n\u001b[1;32m----> 5\u001b[0m load_video(PATH, ms\u001b[38;5;241m=\u001b[39m\u001b[38;5;241m20\u001b[39m)\n",
      "Cell \u001b[1;32mIn[68], line 46\u001b[0m, in \u001b[0;36mload_video\u001b[1;34m(path, ms)\u001b[0m\n\u001b[0;32m     42\u001b[0m criteria \u001b[38;5;241m=\u001b[39m (cv2\u001b[38;5;241m.\u001b[39mTERM_CRITERIA_MAX_ITER \u001b[38;5;241m+\u001b[39m cv2\u001b[38;5;241m.\u001b[39mTERM_CRITERIA_EPS, \u001b[38;5;241m10\u001b[39m, \u001b[38;5;241m0.001\u001b[39m)\n\u001b[0;32m     44\u001b[0m max_labels \u001b[38;5;241m=\u001b[39m \u001b[38;5;241m4\u001b[39m\n\u001b[1;32m---> 46\u001b[0m compactness, labels, centers \u001b[38;5;241m=\u001b[39m cv2\u001b[38;5;241m.\u001b[39mkmeans(data, max_labels, \u001b[38;5;28;01mNone\u001b[39;00m, criteria, \u001b[38;5;241m10\u001b[39m, cv2\u001b[38;5;241m.\u001b[39mKMEANS_RANDOM_CENTERS)\n\u001b[0;32m     48\u001b[0m height, width \u001b[38;5;241m=\u001b[39m frameKMeans\u001b[38;5;241m.\u001b[39mshape\n\u001b[0;32m     50\u001b[0m \u001b[38;5;66;03m# 관심 영역만 남기기\u001b[39;00m\n",
      "\u001b[1;31mKeyboardInterrupt\u001b[0m: "
     ]
    }
   ],
   "source": [
    "# Video가 저장된 경로 입력\n",
    "PATH = r\"soccer1.mp4\"\n",
    "\n",
    "# Video 재생 및 반환 (Numpy Array)\n",
    "load_video(PATH, ms=20)"
   ]
  }
 ],
 "metadata": {
  "kernelspec": {
   "display_name": "Python 3 (ipykernel)",
   "language": "python",
   "name": "python3"
  },
  "language_info": {
   "codemirror_mode": {
    "name": "ipython",
    "version": 3
   },
   "file_extension": ".py",
   "mimetype": "text/x-python",
   "name": "python",
   "nbconvert_exporter": "python",
   "pygments_lexer": "ipython3",
   "version": "3.11.5"
  }
 },
 "nbformat": 4,
 "nbformat_minor": 5
}
